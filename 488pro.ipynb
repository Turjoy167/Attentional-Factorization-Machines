{
  "cells": [
    {
      "cell_type": "code",
      "execution_count": null,
      "metadata": {
        "id": "Pc7olhJU_vJw"
      },
      "outputs": [],
      "source": [
        "import pandas as pd\n",
        "from sklearn.model_selection import train_test_split\n",
        "import tensorflow as tf\n",
        "from tensorflow.keras.layers import Input, Embedding, Dense, Concatenate, Dot, Flatten\n",
        "from tensorflow.keras.models import Model"
      ]
    },
    {
      "cell_type": "code",
      "execution_count": null,
      "metadata": {
        "id": "pL0rzmElDUkO"
      },
      "outputs": [],
      "source": []
    },
    {
      "cell_type": "code",
      "source": [],
      "metadata": {
        "id": "mkjVaGlQDdZl"
      },
      "execution_count": null,
      "outputs": []
    },
    {
      "cell_type": "code",
      "execution_count": null,
      "metadata": {
        "id": "8aYwUkFM_5Sq"
      },
      "outputs": [],
      "source": [
        "# Load the MovieLens 20M dataset\n",
        "data = pd.read_csv('/content/drive/MyDrive/Colab_Notebooks/rating.csv')"
      ]
    },
    {
      "cell_type": "code",
      "execution_count": null,
      "metadata": {
        "id": "ZyZ7XACi_7sC"
      },
      "outputs": [],
      "source": [
        "# Filter relevant columns\n",
        "data = data[['userId', 'movieId', 'rating']]\n"
      ]
    },
    {
      "cell_type": "code",
      "execution_count": null,
      "metadata": {
        "id": "r8-JpsWx__RJ"
      },
      "outputs": [],
      "source": [
        "# Handle missing values (if any)\n",
        "data = data.dropna()"
      ]
    },
    {
      "cell_type": "code",
      "source": [
        "data.shape"
      ],
      "metadata": {
        "colab": {
          "base_uri": "https://localhost:8080/"
        },
        "id": "JSnVbRWKuie3",
        "outputId": "43d80dd6-09a5-4377-f547-2007e2fbb98d"
      },
      "execution_count": null,
      "outputs": [
        {
          "output_type": "execute_result",
          "data": {
            "text/plain": [
              "(20000263, 3)"
            ]
          },
          "metadata": {},
          "execution_count": 7
        }
      ]
    },
    {
      "cell_type": "code",
      "source": [
        "data.shape[0]*0.01"
      ],
      "metadata": {
        "colab": {
          "base_uri": "https://localhost:8080/"
        },
        "id": "dTDDLEkDuqQ9",
        "outputId": "7b9aa8d6-8271-42fc-c810-e044c0344824"
      },
      "execution_count": null,
      "outputs": [
        {
          "output_type": "execute_result",
          "data": {
            "text/plain": [
              "200002.63"
            ]
          },
          "metadata": {},
          "execution_count": 8
        }
      ]
    },
    {
      "cell_type": "code",
      "source": [
        "data = data.sample(int(data.shape[0]*0.05))\n",
        "data.shape"
      ],
      "metadata": {
        "colab": {
          "base_uri": "https://localhost:8080/"
        },
        "id": "FBD34WIzuhqu",
        "outputId": "5e1ca04d-042b-4a98-af86-7b8ff57fd337"
      },
      "execution_count": null,
      "outputs": [
        {
          "output_type": "execute_result",
          "data": {
            "text/plain": [
              "(1000013, 3)"
            ]
          },
          "metadata": {},
          "execution_count": 9
        }
      ]
    },
    {
      "cell_type": "code",
      "execution_count": null,
      "metadata": {
        "id": "2sqfAzd1Ctu0",
        "colab": {
          "base_uri": "https://localhost:8080/"
        },
        "outputId": "17a8128d-6aa7-43d0-afa1-e23d1851403f"
      },
      "outputs": [
        {
          "output_type": "stream",
          "name": "stdout",
          "text": [
            "<class 'pandas.core.frame.DataFrame'>\n",
            "Int64Index: 1000013 entries, 16314683 to 19657567\n",
            "Data columns (total 3 columns):\n",
            " #   Column   Non-Null Count    Dtype  \n",
            "---  ------   --------------    -----  \n",
            " 0   userId   1000013 non-null  int64  \n",
            " 1   movieId  1000013 non-null  int64  \n",
            " 2   rating   1000013 non-null  float64\n",
            "dtypes: float64(1), int64(2)\n",
            "memory usage: 30.5 MB\n"
          ]
        }
      ],
      "source": [
        "data.info()"
      ]
    },
    {
      "cell_type": "code",
      "execution_count": null,
      "metadata": {
        "id": "wUpR_hJ0Ctku",
        "colab": {
          "base_uri": "https://localhost:8080/"
        },
        "outputId": "6d2507d8-6196-4519-82f3-2c43a07ebedb"
      },
      "outputs": [
        {
          "output_type": "stream",
          "name": "stdout",
          "text": [
            "Model: \"model\"\n",
            "__________________________________________________________________________________________________\n",
            " Layer (type)                   Output Shape         Param #     Connected to                     \n",
            "==================================================================================================\n",
            " user_input (InputLayer)        [(None, 1)]          0           []                               \n",
            "                                                                                                  \n",
            " item_input (InputLayer)        [(None, 1)]          0           []                               \n",
            "                                                                                                  \n",
            " embedding (Embedding)          (None, 1, 16)        2006752     ['user_input[0][0]']             \n",
            "                                                                                                  \n",
            " embedding_1 (Embedding)        (None, 1, 16)        245792      ['item_input[0][0]']             \n",
            "                                                                                                  \n",
            " flatten (Flatten)              (None, 16)           0           ['embedding[0][0]']              \n",
            "                                                                                                  \n",
            " flatten_1 (Flatten)            (None, 16)           0           ['embedding_1[0][0]']            \n",
            "                                                                                                  \n",
            " concatenate (Concatenate)      (None, 32)           0           ['flatten[0][0]',                \n",
            "                                                                  'flatten_1[0][0]']              \n",
            "                                                                                                  \n",
            " dense (Dense)                  (None, 1)            33          ['concatenate[0][0]']            \n",
            "                                                                                                  \n",
            " flatten_2 (Flatten)            (None, 1)            0           ['dense[0][0]']                  \n",
            "                                                                                                  \n",
            " tf.nn.softmax (TFOpLambda)     (None, 1)            0           ['flatten_2[0][0]']              \n",
            "                                                                                                  \n",
            " reshape (Reshape)              (None, 1, 1)         0           ['tf.nn.softmax[0][0]']          \n",
            "                                                                                                  \n",
            " dot (Dot)                      (None, 1, 16)        0           ['reshape[0][0]',                \n",
            "                                                                  'embedding_1[0][0]']            \n",
            "                                                                                                  \n",
            " flatten_3 (Flatten)            (None, 16)           0           ['dot[0][0]']                    \n",
            "                                                                                                  \n",
            " concatenate_1 (Concatenate)    (None, 32)           0           ['flatten[0][0]',                \n",
            "                                                                  'flatten_3[0][0]']              \n",
            "                                                                                                  \n",
            " dense_1 (Dense)                (None, 1)            33          ['concatenate_1[0][0]']          \n",
            "                                                                                                  \n",
            "==================================================================================================\n",
            "Total params: 2,252,610\n",
            "Trainable params: 2,252,610\n",
            "Non-trainable params: 0\n",
            "__________________________________________________________________________________________________\n"
          ]
        }
      ],
      "source": [
        "# Convert user IDs and movie IDs to integer format\n",
        "user_ids = data['userId'].astype('category').cat.codes.values\n",
        "movie_ids = data['movieId'].astype('category').cat.codes.values\n",
        "\n",
        "# Define the input layers\n",
        "user_input = Input(shape=(1,), dtype=tf.int32, name='user_input')\n",
        "item_input = Input(shape=(1,), dtype=tf.int32, name='item_input')\n",
        "\n",
        "# Create the user and item embeddings\n",
        "user_embedding = Embedding(input_dim=len(data['userId'].unique()), output_dim=16)(user_input)\n",
        "item_embedding = Embedding(input_dim=len(data['movieId'].unique()), output_dim=16)(item_input)\n",
        "\n",
        "# Flatten the embeddings\n",
        "user_embedding_flat = Flatten()(user_embedding)\n",
        "item_embedding_flat = Flatten()(item_embedding)\n",
        "\n",
        "# Concatenate the user and item embeddings\n",
        "concatenated_embeddings = Concatenate()([user_embedding_flat, item_embedding_flat])\n",
        "\n",
        "# Attention mechanism\n",
        "attention_weights = Dense(1, activation='tanh')(concatenated_embeddings)\n",
        "attention_weights = Flatten()(attention_weights)\n",
        "attention_weights = tf.keras.activations.softmax(attention_weights)\n",
        "attention_weights = tf.keras.layers.Reshape((-1, 1))(attention_weights)\n",
        "\n",
        "# Multiply attention weights with item embeddings\n",
        "weighted_sum = Dot(axes=(1, 1))([attention_weights, item_embedding])\n",
        "weighted_sum = Flatten()(weighted_sum)\n",
        "\n",
        "# Concatenate the user embedding and the weighted sum\n",
        "output = Concatenate()([user_embedding_flat, weighted_sum])\n",
        "\n",
        "# Final prediction layer\n",
        "output = Dense(1, activation='linear')(output)\n",
        "\n",
        "# Create the AFM model\n",
        "model = Model(inputs=[user_input, item_input], outputs=output)\n",
        "\n",
        "# Compile the model\n",
        "model.compile(optimizer='adam', loss='mean_squared_error',metrics=[tf.keras.metrics.BinaryAccuracy(name='accuracy'),\n",
        "                       tf.keras.metrics.Precision(name='precision'),\n",
        "                       tf.keras.metrics.Recall(name='recall')\n",
        "              ])\n",
        "\n",
        "# Print the model summary\n",
        "model.summary()\n"
      ]
    },
    {
      "cell_type": "code",
      "execution_count": null,
      "metadata": {
        "colab": {
          "base_uri": "https://localhost:8080/"
        },
        "id": "N_CgZnWVCvU-",
        "outputId": "605da955-79a3-4b57-d9b5-cc42443c92c5"
      },
      "outputs": [
        {
          "output_type": "stream",
          "name": "stdout",
          "text": [
            "Epoch 1/25\n",
            "1563/1563 [==============================] - 29s 18ms/step - loss: 1.2293 - accuracy: 0.0340 - precision: 1.0000 - recall: 0.9987\n",
            "Epoch 2/25\n",
            "1563/1563 [==============================] - 29s 19ms/step - loss: 0.7791 - accuracy: 0.0339 - precision: 1.0000 - recall: 0.9992\n",
            "Epoch 3/25\n",
            "1563/1563 [==============================] - 28s 18ms/step - loss: 0.6530 - accuracy: 0.0339 - precision: 1.0000 - recall: 0.9993\n",
            "Epoch 4/25\n",
            "1563/1563 [==============================] - 29s 19ms/step - loss: 0.5962 - accuracy: 0.0340 - precision: 1.0000 - recall: 0.9993\n",
            "Epoch 5/25\n",
            "1563/1563 [==============================] - 29s 19ms/step - loss: 0.5635 - accuracy: 0.0340 - precision: 1.0000 - recall: 0.9994\n",
            "Epoch 6/25\n",
            "1563/1563 [==============================] - 29s 18ms/step - loss: 0.5428 - accuracy: 0.0340 - precision: 1.0000 - recall: 0.9995\n",
            "Epoch 7/25\n",
            "1563/1563 [==============================] - 29s 18ms/step - loss: 0.5282 - accuracy: 0.0340 - precision: 1.0000 - recall: 0.9995\n",
            "Epoch 8/25\n",
            "1563/1563 [==============================] - 29s 18ms/step - loss: 0.5166 - accuracy: 0.0340 - precision: 1.0000 - recall: 0.9995\n",
            "Epoch 9/25\n",
            "1563/1563 [==============================] - 28s 18ms/step - loss: 0.5074 - accuracy: 0.0340 - precision: 1.0000 - recall: 0.9995\n",
            "Epoch 10/25\n",
            "1563/1563 [==============================] - 29s 18ms/step - loss: 0.5004 - accuracy: 0.0340 - precision: 1.0000 - recall: 0.9994\n",
            "Epoch 11/25\n",
            "1563/1563 [==============================] - 28s 18ms/step - loss: 0.4944 - accuracy: 0.0340 - precision: 1.0000 - recall: 0.9995\n",
            "Epoch 12/25\n",
            "1563/1563 [==============================] - 28s 18ms/step - loss: 0.4889 - accuracy: 0.0340 - precision: 1.0000 - recall: 0.9994\n",
            "Epoch 13/25\n",
            "1563/1563 [==============================] - 28s 18ms/step - loss: 0.4844 - accuracy: 0.0340 - precision: 1.0000 - recall: 0.9994\n",
            "Epoch 14/25\n",
            "1563/1563 [==============================] - 28s 18ms/step - loss: 0.4804 - accuracy: 0.0340 - precision: 1.0000 - recall: 0.9993\n",
            "Epoch 15/25\n",
            "1563/1563 [==============================] - 28s 18ms/step - loss: 0.4768 - accuracy: 0.0340 - precision: 1.0000 - recall: 0.9994\n",
            "Epoch 16/25\n",
            "1563/1563 [==============================] - 28s 18ms/step - loss: 0.4738 - accuracy: 0.0340 - precision: 1.0000 - recall: 0.9994\n",
            "Epoch 17/25\n",
            "1563/1563 [==============================] - 28s 18ms/step - loss: 0.4710 - accuracy: 0.0340 - precision: 1.0000 - recall: 0.9993\n",
            "Epoch 18/25\n",
            "1563/1563 [==============================] - 28s 18ms/step - loss: 0.4688 - accuracy: 0.0340 - precision: 1.0000 - recall: 0.9993\n",
            "Epoch 19/25\n",
            "1563/1563 [==============================] - 29s 18ms/step - loss: 0.4661 - accuracy: 0.0340 - precision: 1.0000 - recall: 0.9992\n",
            "Epoch 20/25\n",
            "1563/1563 [==============================] - 29s 19ms/step - loss: 0.4643 - accuracy: 0.0340 - precision: 1.0000 - recall: 0.9992\n",
            "Epoch 21/25\n",
            "1563/1563 [==============================] - 33s 21ms/step - loss: 0.4623 - accuracy: 0.0340 - precision: 1.0000 - recall: 0.9992\n",
            "Epoch 22/25\n",
            "1563/1563 [==============================] - 29s 19ms/step - loss: 0.4605 - accuracy: 0.0340 - precision: 1.0000 - recall: 0.9992\n",
            "Epoch 23/25\n",
            "1563/1563 [==============================] - 28s 18ms/step - loss: 0.4589 - accuracy: 0.0340 - precision: 1.0000 - recall: 0.9991\n",
            "Epoch 24/25\n",
            "1563/1563 [==============================] - 28s 18ms/step - loss: 0.4575 - accuracy: 0.0341 - precision: 1.0000 - recall: 0.9992\n",
            "Epoch 25/25\n",
            "1563/1563 [==============================] - 28s 18ms/step - loss: 0.4561 - accuracy: 0.0340 - precision: 1.0000 - recall: 0.9991\n"
          ]
        },
        {
          "output_type": "execute_result",
          "data": {
            "text/plain": [
              "<keras.callbacks.History at 0x7fe587137430>"
            ]
          },
          "metadata": {},
          "execution_count": 12
        }
      ],
      "source": [
        "# Train the model 1%\n",
        "model.fit([user_ids, movie_ids], data['rating'], epochs=25, batch_size=128)\n"
      ]
    },
    {
      "cell_type": "code",
      "source": [
        "# Train the model 5%\n",
        "model.fit([user_ids, movie_ids], data['rating'], epochs=25, batch_size=128)\n"
      ],
      "metadata": {
        "colab": {
          "base_uri": "https://localhost:8080/"
        },
        "id": "mo6YQkoRzBOG",
        "outputId": "4bab8467-b61f-4105-e708-8cd709609c82"
      },
      "execution_count": null,
      "outputs": [
        {
          "output_type": "stream",
          "name": "stdout",
          "text": [
            "Epoch 1/25\n",
            "7813/7813 [==============================] - 238s 30ms/step - loss: 1.5319 - accuracy: 0.0330 - precision: 1.0000 - recall: 0.9727\n",
            "Epoch 2/25\n",
            "7813/7813 [==============================] - 236s 30ms/step - loss: 0.7783 - accuracy: 0.0340 - precision: 1.0000 - recall: 0.9999\n",
            "Epoch 3/25\n",
            "7813/7813 [==============================] - 244s 31ms/step - loss: 0.7356 - accuracy: 0.0340 - precision: 1.0000 - recall: 0.9999\n",
            "Epoch 4/25\n",
            "7813/7813 [==============================] - 238s 31ms/step - loss: 0.7170 - accuracy: 0.0340 - precision: 1.0000 - recall: 0.9999\n",
            "Epoch 5/25\n",
            "7813/7813 [==============================] - 235s 30ms/step - loss: 0.7051 - accuracy: 0.0340 - precision: 1.0000 - recall: 0.9999\n",
            "Epoch 6/25\n",
            "7813/7813 [==============================] - 237s 30ms/step - loss: 0.6970 - accuracy: 0.0340 - precision: 1.0000 - recall: 0.9999\n",
            "Epoch 7/25\n",
            "7813/7813 [==============================] - 237s 30ms/step - loss: 0.6912 - accuracy: 0.0340 - precision: 1.0000 - recall: 0.9999\n",
            "Epoch 8/25\n",
            "7813/7813 [==============================] - 242s 31ms/step - loss: 0.6865 - accuracy: 0.0340 - precision: 1.0000 - recall: 0.9999\n",
            "Epoch 9/25\n",
            "7813/7813 [==============================] - 240s 31ms/step - loss: 0.6825 - accuracy: 0.0340 - precision: 1.0000 - recall: 0.9998\n",
            "Epoch 10/25\n",
            "7813/7813 [==============================] - 236s 30ms/step - loss: 0.6794 - accuracy: 0.0340 - precision: 1.0000 - recall: 0.9998\n",
            "Epoch 11/25\n",
            "7813/7813 [==============================] - 235s 30ms/step - loss: 0.6767 - accuracy: 0.0340 - precision: 1.0000 - recall: 0.9998\n",
            "Epoch 12/25\n",
            "7813/7813 [==============================] - 235s 30ms/step - loss: 0.6744 - accuracy: 0.0340 - precision: 1.0000 - recall: 0.9998\n",
            "Epoch 13/25\n",
            "7813/7813 [==============================] - 246s 31ms/step - loss: 0.6721 - accuracy: 0.0340 - precision: 1.0000 - recall: 0.9998\n",
            "Epoch 14/25\n",
            "7813/7813 [==============================] - 238s 30ms/step - loss: 0.6705 - accuracy: 0.0340 - precision: 1.0000 - recall: 0.9998\n",
            "Epoch 15/25\n",
            "7813/7813 [==============================] - 237s 30ms/step - loss: 0.6688 - accuracy: 0.0340 - precision: 1.0000 - recall: 0.9998\n",
            "Epoch 16/25\n",
            "7813/7813 [==============================] - 233s 30ms/step - loss: 0.6672 - accuracy: 0.0340 - precision: 1.0000 - recall: 0.9998\n",
            "Epoch 17/25\n",
            "7813/7813 [==============================] - 236s 30ms/step - loss: 0.6660 - accuracy: 0.0340 - precision: 1.0000 - recall: 0.9998\n",
            "Epoch 18/25\n",
            "7813/7813 [==============================] - 245s 31ms/step - loss: 0.6648 - accuracy: 0.0340 - precision: 1.0000 - recall: 0.9998\n",
            "Epoch 19/25\n",
            "7813/7813 [==============================] - 239s 31ms/step - loss: 0.6636 - accuracy: 0.0340 - precision: 1.0000 - recall: 0.9998\n",
            "Epoch 20/25\n",
            "7813/7813 [==============================] - 246s 31ms/step - loss: 0.6626 - accuracy: 0.0340 - precision: 1.0000 - recall: 0.9998\n",
            "Epoch 21/25\n",
            "7813/7813 [==============================] - 236s 30ms/step - loss: 0.6617 - accuracy: 0.0340 - precision: 1.0000 - recall: 0.9998\n",
            "Epoch 22/25\n",
            "7813/7813 [==============================] - 237s 30ms/step - loss: 0.6607 - accuracy: 0.0340 - precision: 1.0000 - recall: 0.9998\n",
            "Epoch 23/25\n",
            "7813/7813 [==============================] - 236s 30ms/step - loss: 0.6599 - accuracy: 0.0340 - precision: 1.0000 - recall: 0.9998\n",
            "Epoch 24/25\n",
            "7813/7813 [==============================] - 231s 30ms/step - loss: 0.6591 - accuracy: 0.0340 - precision: 1.0000 - recall: 0.9998\n",
            "Epoch 25/25\n",
            "7813/7813 [==============================] - 231s 30ms/step - loss: 0.6584 - accuracy: 0.0340 - precision: 1.0000 - recall: 0.9998\n"
          ]
        },
        {
          "output_type": "execute_result",
          "data": {
            "text/plain": [
              "<keras.callbacks.History at 0x7fe5516dcd90>"
            ]
          },
          "metadata": {},
          "execution_count": 26
        }
      ]
    },
    {
      "cell_type": "code",
      "execution_count": null,
      "metadata": {
        "id": "XNM0nHnjCylu"
      },
      "outputs": [],
      "source": [
        "# Convert test set IDs to integer format\n",
        "test_user_ids = data['userId'].astype('category').cat.codes.values\n",
        "test_movie_ids = data['movieId'].astype('category').cat.codes.values"
      ]
    },
    {
      "cell_type": "code",
      "execution_count": null,
      "metadata": {
        "id": "20iKtiTqC2WX",
        "colab": {
          "base_uri": "https://localhost:8080/"
        },
        "outputId": "277cd528-bc70-4964-937e-d3c25387089d"
      },
      "outputs": [
        {
          "output_type": "stream",
          "name": "stdout",
          "text": [
            "31251/31251 [==============================] - 51s 2ms/step\n",
            "RMSE: 0.798328882313024\n"
          ]
        }
      ],
      "source": [
        "# Evaluate the model\n",
        "from sklearn.metrics import mean_squared_error\n",
        "import numpy as np\n",
        "\n",
        "predictions = model.predict([test_user_ids, test_movie_ids])\n",
        "\n",
        "mse = mean_squared_error(data['rating'], predictions)\n",
        "rmse = np.sqrt(mse)\n",
        "print(f\"RMSE: {rmse}\")"
      ]
    },
    {
      "cell_type": "code",
      "source": [
        "# Make predictions\n",
        "user_ids_to_predict = np.array([1])  # Example user IDs to predict for\n",
        "movie_ids_to_predict = np.array([2])  # Example movie IDs to predict for\n",
        "\n",
        "predictions = model.predict([user_ids_to_predict, movie_ids_to_predict])\n",
        "print('Predictions:', predictions)"
      ],
      "metadata": {
        "id": "4hAp8Fq6LbEy"
      },
      "execution_count": null,
      "outputs": []
    }
  ],
  "metadata": {
    "colab": {
      "provenance": [],
      "gpuType": "T4"
    },
    "gpuClass": "standard",
    "kernelspec": {
      "display_name": "Python 3",
      "name": "python3"
    },
    "language_info": {
      "name": "python"
    },
    "accelerator": "GPU"
  },
  "nbformat": 4,
  "nbformat_minor": 0
}